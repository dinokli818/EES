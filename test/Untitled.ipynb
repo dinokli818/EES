{
 "cells": [
  {
   "cell_type": "code",
   "execution_count": 1,
   "id": "98b97494-349c-4d34-b395-6a25da6fd522",
   "metadata": {},
   "outputs": [
    {
     "name": "stdout",
     "output_type": "stream",
     "text": [
      "2.2.2\n"
     ]
    }
   ],
   "source": [
    "import torch\n",
    "print(torch.__version__)  # torch.__version__ 返回安装的 PyTorch 的版本号\n"
   ]
  },
  {
   "cell_type": "code",
   "execution_count": 8,
   "id": "3c081460-03b4-438b-80ee-0f486f83d51c",
   "metadata": {},
   "outputs": [
    {
     "name": "stdout",
     "output_type": "stream",
     "text": [
      "(array([0.03061138, 0.00301403, 0.00817284, 0.01143855], dtype=float32), {})\n"
     ]
    },
    {
     "ename": "ValueError",
     "evalue": "too many values to unpack (expected 4)",
     "output_type": "error",
     "traceback": [
      "\u001b[1;31m---------------------------------------------------------------------------\u001b[0m",
      "\u001b[1;31mValueError\u001b[0m                                Traceback (most recent call last)",
      "Cell \u001b[1;32mIn[8], line 17\u001b[0m\n\u001b[0;32m     14\u001b[0m \u001b[38;5;28;01mfor\u001b[39;00m _ \u001b[38;5;129;01min\u001b[39;00m \u001b[38;5;28mrange\u001b[39m(\u001b[38;5;241m100\u001b[39m):\n\u001b[0;32m     15\u001b[0m     \u001b[38;5;66;03m# 随机在动作空间进行采样\u001b[39;00m\n\u001b[0;32m     16\u001b[0m     action \u001b[38;5;241m=\u001b[39m env\u001b[38;5;241m.\u001b[39maction_space\u001b[38;5;241m.\u001b[39msample()\n\u001b[1;32m---> 17\u001b[0m     obs, reward, done, info, \u001b[38;5;241m=\u001b[39m env\u001b[38;5;241m.\u001b[39mstep(action)\n\u001b[0;32m     18\u001b[0m     \u001b[38;5;28mprint\u001b[39m(obs, reward)\n\u001b[0;32m     19\u001b[0m     \u001b[38;5;66;03m# 如果强化学习环境处于结束状态，则跳出循环\u001b[39;00m\n",
      "\u001b[1;31mValueError\u001b[0m: too many values to unpack (expected 4)"
     ]
    }
   ],
   "source": [
    "import gymnasium as gym\n",
    "import matplotlib.pyplot as plt\n",
    "\n",
    "env = gym.make('CartPole-v1')\n",
    "\n",
    "# 重置环境，返回当前的环境状态\n",
    "obs = env.reset()\n",
    "print(obs)\n",
    "\n",
    "# 执行20个片段的采样，每次重置\n",
    "for episode_idx in range(10):\n",
    "    obs = env.reset()\n",
    "    # 单次采样的路径，最多100步\n",
    "    for _ in range(100):\n",
    "        # 随机在动作空间进行采样\n",
    "        action = env.action_space.sample()\n",
    "        obs, reward, done, info, = env.step(action)\n",
    "        print(obs, reward)\n",
    "        # 如果强化学习环境处于结束状态，则跳出循环\n",
    "        if done: break\n"
   ]
  },
  {
   "cell_type": "code",
   "execution_count": null,
   "id": "e15a5e3b-00d2-4862-b624-bcc6ab3960f9",
   "metadata": {},
   "outputs": [],
   "source": []
  },
  {
   "cell_type": "code",
   "execution_count": null,
   "id": "b5d39e0e-e4e7-424d-a14e-44534fa64a8f",
   "metadata": {},
   "outputs": [],
   "source": []
  }
 ],
 "metadata": {
  "kernelspec": {
   "display_name": "Python 3 (ipykernel)",
   "language": "python",
   "name": "python3"
  },
  "language_info": {
   "codemirror_mode": {
    "name": "ipython",
    "version": 3
   },
   "file_extension": ".py",
   "mimetype": "text/x-python",
   "name": "python",
   "nbconvert_exporter": "python",
   "pygments_lexer": "ipython3",
   "version": "3.11.8"
  }
 },
 "nbformat": 4,
 "nbformat_minor": 5
}
